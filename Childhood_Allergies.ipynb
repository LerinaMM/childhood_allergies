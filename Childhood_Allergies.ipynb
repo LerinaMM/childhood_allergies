{
  "nbformat": 4,
  "nbformat_minor": 0,
  "metadata": {
    "colab": {
      "provenance": [],
      "toc_visible": true,
      "mount_file_id": "1LV4KZe5i9TGN4tQ2gYA5uXtumacXzHKw",
      "authorship_tag": "ABX9TyOyrW70wg6NvKghwI/A7jbY",
      "include_colab_link": true
    },
    "kernelspec": {
      "name": "python3",
      "display_name": "Python 3"
    },
    "language_info": {
      "name": "python"
    }
  },
  "cells": [
    {
      "cell_type": "markdown",
      "metadata": {
        "id": "view-in-github",
        "colab_type": "text"
      },
      "source": [
        "<a href=\"https://colab.research.google.com/github/LerinaMM/childhood_allergies/blob/main/Childhood_Allergies.ipynb\" target=\"_parent\"><img src=\"https://colab.research.google.com/assets/colab-badge.svg\" alt=\"Open In Colab\"/></a>"
      ]
    },
    {
      "cell_type": "markdown",
      "source": [
        "# Conectar o Dataset a partir do drive"
      ],
      "metadata": {
        "id": "Rva0Hb45PtAs"
      }
    },
    {
      "cell_type": "code",
      "execution_count": 3,
      "metadata": {
        "colab": {
          "base_uri": "https://localhost:8080/"
        },
        "id": "0n2XBCUKPKJV",
        "outputId": "cef15840-6f44-44fd-bdf6-ee791a2598af"
      },
      "outputs": [
        {
          "output_type": "stream",
          "name": "stdout",
          "text": [
            "wget: missing URL\n",
            "Usage: wget [OPTION]... [URL]...\n",
            "\n",
            "Try `wget --help' for more options.\n"
          ]
        }
      ],
      "source": [
        "!wget -P \"/content/drive/MyDrive/Datasets/Childhood Allergies_Prevalence Demographics/food-allergy-analysis-Zenodo.csv\""
      ]
    },
    {
      "cell_type": "markdown",
      "source": [
        "# Importar Bibliotecas"
      ],
      "metadata": {
        "id": "dTPgz-F6P0SW"
      }
    },
    {
      "cell_type": "code",
      "source": [
        "import pandas as pd\n",
        "import numpy as np\n",
        "import matplotlib.pyplot as plt\n",
        "import seaborn as sns\n",
        "\n",
        "import warnings\n",
        "warnings.filterwarnings('ignore')"
      ],
      "metadata": {
        "id": "L_S-4wUaP56t"
      },
      "execution_count": 4,
      "outputs": []
    },
    {
      "cell_type": "markdown",
      "source": [
        "# Verificação dos dados"
      ],
      "metadata": {
        "id": "-TPIYBOQQg3a"
      }
    },
    {
      "cell_type": "code",
      "source": [
        "Dados = pd.read_csv('/content/drive/MyDrive/Datasets/Childhood Allergies_Prevalence Demographics/food-allergy-analysis-Zenodo.csv')"
      ],
      "metadata": {
        "id": "6557bNlqQkaF"
      },
      "execution_count": 5,
      "outputs": []
    },
    {
      "cell_type": "code",
      "source": [
        "Dados.head()"
      ],
      "metadata": {
        "colab": {
          "base_uri": "https://localhost:8080/",
          "height": 369
        },
        "id": "e_dBXWmWQyrH",
        "outputId": "cc09b479-2811-4851-9226-aab154277781"
      },
      "execution_count": 6,
      "outputs": [
        {
          "output_type": "execute_result",
          "data": {
            "text/plain": [
              "   SUBJECT_ID  BIRTH_YEAR GENDER_FACTOR   RACE_FACTOR   ETHNICITY_FACTOR  \\\n",
              "0           1        2006   S1 - Female    R1 - Black  E0 - Non-Hispanic   \n",
              "1           2        1994   S1 - Female    R0 - White  E0 - Non-Hispanic   \n",
              "2           3        2006     S0 - Male    R0 - White      E1 - Hispanic   \n",
              "3           4        2004     S0 - Male  R4 - Unknown      E1 - Hispanic   \n",
              "4           5        2006   S1 - Female    R1 - Black  E0 - Non-Hispanic   \n",
              "\n",
              "        PAYER_FACTOR  ATOPIC_MARCH_COHORT  AGE_START_YEARS  AGE_END_YEARS  \\\n",
              "0      P1 - Medicaid                False         0.093087       3.164956   \n",
              "1  P0 - Non-Medicaid                False        12.232717      18.880219   \n",
              "2  P0 - Non-Medicaid                 True         0.010951       6.726899   \n",
              "3  P0 - Non-Medicaid                False         2.398357       9.111567   \n",
              "4  P0 - Non-Medicaid                False         0.013689       6.193018   \n",
              "\n",
              "   SHELLFISH_ALG_START  ...  CASHEW_ALG_END  ATOPIC_DERM_START  \\\n",
              "0                  NaN  ...             NaN                NaN   \n",
              "1                  NaN  ...             NaN                NaN   \n",
              "2                  NaN  ...             NaN           4.884326   \n",
              "3                  NaN  ...             NaN                NaN   \n",
              "4                  NaN  ...             NaN                NaN   \n",
              "\n",
              "   ATOPIC_DERM_END  ALLERGIC_RHINITIS_START  ALLERGIC_RHINITIS_END  \\\n",
              "0              NaN                      NaN                    NaN   \n",
              "1              NaN                      NaN                    NaN   \n",
              "2              NaN                 3.917864               6.157426   \n",
              "3              NaN                      NaN                    NaN   \n",
              "4              NaN                      NaN                    NaN   \n",
              "\n",
              "   ASTHMA_START  ASTHMA_END  FIRST_ASTHMARX  LAST_ASTHMARX  NUM_ASTHMARX  \n",
              "0           NaN         NaN             NaN            NaN           NaN  \n",
              "1           NaN         NaN       12.262834      18.880219           2.0  \n",
              "2      5.127995         NaN        1.404517       6.157426           4.0  \n",
              "3           NaN         NaN             NaN            NaN           NaN  \n",
              "4           NaN         NaN             NaN            NaN           NaN  \n",
              "\n",
              "[5 rows x 50 columns]"
            ],
            "text/html": [
              "\n",
              "  <div id=\"df-abbf7c9b-8dd9-4d3d-be74-85398a66c451\">\n",
              "    <div class=\"colab-df-container\">\n",
              "      <div>\n",
              "<style scoped>\n",
              "    .dataframe tbody tr th:only-of-type {\n",
              "        vertical-align: middle;\n",
              "    }\n",
              "\n",
              "    .dataframe tbody tr th {\n",
              "        vertical-align: top;\n",
              "    }\n",
              "\n",
              "    .dataframe thead th {\n",
              "        text-align: right;\n",
              "    }\n",
              "</style>\n",
              "<table border=\"1\" class=\"dataframe\">\n",
              "  <thead>\n",
              "    <tr style=\"text-align: right;\">\n",
              "      <th></th>\n",
              "      <th>SUBJECT_ID</th>\n",
              "      <th>BIRTH_YEAR</th>\n",
              "      <th>GENDER_FACTOR</th>\n",
              "      <th>RACE_FACTOR</th>\n",
              "      <th>ETHNICITY_FACTOR</th>\n",
              "      <th>PAYER_FACTOR</th>\n",
              "      <th>ATOPIC_MARCH_COHORT</th>\n",
              "      <th>AGE_START_YEARS</th>\n",
              "      <th>AGE_END_YEARS</th>\n",
              "      <th>SHELLFISH_ALG_START</th>\n",
              "      <th>...</th>\n",
              "      <th>CASHEW_ALG_END</th>\n",
              "      <th>ATOPIC_DERM_START</th>\n",
              "      <th>ATOPIC_DERM_END</th>\n",
              "      <th>ALLERGIC_RHINITIS_START</th>\n",
              "      <th>ALLERGIC_RHINITIS_END</th>\n",
              "      <th>ASTHMA_START</th>\n",
              "      <th>ASTHMA_END</th>\n",
              "      <th>FIRST_ASTHMARX</th>\n",
              "      <th>LAST_ASTHMARX</th>\n",
              "      <th>NUM_ASTHMARX</th>\n",
              "    </tr>\n",
              "  </thead>\n",
              "  <tbody>\n",
              "    <tr>\n",
              "      <th>0</th>\n",
              "      <td>1</td>\n",
              "      <td>2006</td>\n",
              "      <td>S1 - Female</td>\n",
              "      <td>R1 - Black</td>\n",
              "      <td>E0 - Non-Hispanic</td>\n",
              "      <td>P1 - Medicaid</td>\n",
              "      <td>False</td>\n",
              "      <td>0.093087</td>\n",
              "      <td>3.164956</td>\n",
              "      <td>NaN</td>\n",
              "      <td>...</td>\n",
              "      <td>NaN</td>\n",
              "      <td>NaN</td>\n",
              "      <td>NaN</td>\n",
              "      <td>NaN</td>\n",
              "      <td>NaN</td>\n",
              "      <td>NaN</td>\n",
              "      <td>NaN</td>\n",
              "      <td>NaN</td>\n",
              "      <td>NaN</td>\n",
              "      <td>NaN</td>\n",
              "    </tr>\n",
              "    <tr>\n",
              "      <th>1</th>\n",
              "      <td>2</td>\n",
              "      <td>1994</td>\n",
              "      <td>S1 - Female</td>\n",
              "      <td>R0 - White</td>\n",
              "      <td>E0 - Non-Hispanic</td>\n",
              "      <td>P0 - Non-Medicaid</td>\n",
              "      <td>False</td>\n",
              "      <td>12.232717</td>\n",
              "      <td>18.880219</td>\n",
              "      <td>NaN</td>\n",
              "      <td>...</td>\n",
              "      <td>NaN</td>\n",
              "      <td>NaN</td>\n",
              "      <td>NaN</td>\n",
              "      <td>NaN</td>\n",
              "      <td>NaN</td>\n",
              "      <td>NaN</td>\n",
              "      <td>NaN</td>\n",
              "      <td>12.262834</td>\n",
              "      <td>18.880219</td>\n",
              "      <td>2.0</td>\n",
              "    </tr>\n",
              "    <tr>\n",
              "      <th>2</th>\n",
              "      <td>3</td>\n",
              "      <td>2006</td>\n",
              "      <td>S0 - Male</td>\n",
              "      <td>R0 - White</td>\n",
              "      <td>E1 - Hispanic</td>\n",
              "      <td>P0 - Non-Medicaid</td>\n",
              "      <td>True</td>\n",
              "      <td>0.010951</td>\n",
              "      <td>6.726899</td>\n",
              "      <td>NaN</td>\n",
              "      <td>...</td>\n",
              "      <td>NaN</td>\n",
              "      <td>4.884326</td>\n",
              "      <td>NaN</td>\n",
              "      <td>3.917864</td>\n",
              "      <td>6.157426</td>\n",
              "      <td>5.127995</td>\n",
              "      <td>NaN</td>\n",
              "      <td>1.404517</td>\n",
              "      <td>6.157426</td>\n",
              "      <td>4.0</td>\n",
              "    </tr>\n",
              "    <tr>\n",
              "      <th>3</th>\n",
              "      <td>4</td>\n",
              "      <td>2004</td>\n",
              "      <td>S0 - Male</td>\n",
              "      <td>R4 - Unknown</td>\n",
              "      <td>E1 - Hispanic</td>\n",
              "      <td>P0 - Non-Medicaid</td>\n",
              "      <td>False</td>\n",
              "      <td>2.398357</td>\n",
              "      <td>9.111567</td>\n",
              "      <td>NaN</td>\n",
              "      <td>...</td>\n",
              "      <td>NaN</td>\n",
              "      <td>NaN</td>\n",
              "      <td>NaN</td>\n",
              "      <td>NaN</td>\n",
              "      <td>NaN</td>\n",
              "      <td>NaN</td>\n",
              "      <td>NaN</td>\n",
              "      <td>NaN</td>\n",
              "      <td>NaN</td>\n",
              "      <td>NaN</td>\n",
              "    </tr>\n",
              "    <tr>\n",
              "      <th>4</th>\n",
              "      <td>5</td>\n",
              "      <td>2006</td>\n",
              "      <td>S1 - Female</td>\n",
              "      <td>R1 - Black</td>\n",
              "      <td>E0 - Non-Hispanic</td>\n",
              "      <td>P0 - Non-Medicaid</td>\n",
              "      <td>False</td>\n",
              "      <td>0.013689</td>\n",
              "      <td>6.193018</td>\n",
              "      <td>NaN</td>\n",
              "      <td>...</td>\n",
              "      <td>NaN</td>\n",
              "      <td>NaN</td>\n",
              "      <td>NaN</td>\n",
              "      <td>NaN</td>\n",
              "      <td>NaN</td>\n",
              "      <td>NaN</td>\n",
              "      <td>NaN</td>\n",
              "      <td>NaN</td>\n",
              "      <td>NaN</td>\n",
              "      <td>NaN</td>\n",
              "    </tr>\n",
              "  </tbody>\n",
              "</table>\n",
              "<p>5 rows × 50 columns</p>\n",
              "</div>\n",
              "      <button class=\"colab-df-convert\" onclick=\"convertToInteractive('df-abbf7c9b-8dd9-4d3d-be74-85398a66c451')\"\n",
              "              title=\"Convert this dataframe to an interactive table.\"\n",
              "              style=\"display:none;\">\n",
              "        \n",
              "  <svg xmlns=\"http://www.w3.org/2000/svg\" height=\"24px\"viewBox=\"0 0 24 24\"\n",
              "       width=\"24px\">\n",
              "    <path d=\"M0 0h24v24H0V0z\" fill=\"none\"/>\n",
              "    <path d=\"M18.56 5.44l.94 2.06.94-2.06 2.06-.94-2.06-.94-.94-2.06-.94 2.06-2.06.94zm-11 1L8.5 8.5l.94-2.06 2.06-.94-2.06-.94L8.5 2.5l-.94 2.06-2.06.94zm10 10l.94 2.06.94-2.06 2.06-.94-2.06-.94-.94-2.06-.94 2.06-2.06.94z\"/><path d=\"M17.41 7.96l-1.37-1.37c-.4-.4-.92-.59-1.43-.59-.52 0-1.04.2-1.43.59L10.3 9.45l-7.72 7.72c-.78.78-.78 2.05 0 2.83L4 21.41c.39.39.9.59 1.41.59.51 0 1.02-.2 1.41-.59l7.78-7.78 2.81-2.81c.8-.78.8-2.07 0-2.86zM5.41 20L4 18.59l7.72-7.72 1.47 1.35L5.41 20z\"/>\n",
              "  </svg>\n",
              "      </button>\n",
              "      \n",
              "  <style>\n",
              "    .colab-df-container {\n",
              "      display:flex;\n",
              "      flex-wrap:wrap;\n",
              "      gap: 12px;\n",
              "    }\n",
              "\n",
              "    .colab-df-convert {\n",
              "      background-color: #E8F0FE;\n",
              "      border: none;\n",
              "      border-radius: 50%;\n",
              "      cursor: pointer;\n",
              "      display: none;\n",
              "      fill: #1967D2;\n",
              "      height: 32px;\n",
              "      padding: 0 0 0 0;\n",
              "      width: 32px;\n",
              "    }\n",
              "\n",
              "    .colab-df-convert:hover {\n",
              "      background-color: #E2EBFA;\n",
              "      box-shadow: 0px 1px 2px rgba(60, 64, 67, 0.3), 0px 1px 3px 1px rgba(60, 64, 67, 0.15);\n",
              "      fill: #174EA6;\n",
              "    }\n",
              "\n",
              "    [theme=dark] .colab-df-convert {\n",
              "      background-color: #3B4455;\n",
              "      fill: #D2E3FC;\n",
              "    }\n",
              "\n",
              "    [theme=dark] .colab-df-convert:hover {\n",
              "      background-color: #434B5C;\n",
              "      box-shadow: 0px 1px 3px 1px rgba(0, 0, 0, 0.15);\n",
              "      filter: drop-shadow(0px 1px 2px rgba(0, 0, 0, 0.3));\n",
              "      fill: #FFFFFF;\n",
              "    }\n",
              "  </style>\n",
              "\n",
              "      <script>\n",
              "        const buttonEl =\n",
              "          document.querySelector('#df-abbf7c9b-8dd9-4d3d-be74-85398a66c451 button.colab-df-convert');\n",
              "        buttonEl.style.display =\n",
              "          google.colab.kernel.accessAllowed ? 'block' : 'none';\n",
              "\n",
              "        async function convertToInteractive(key) {\n",
              "          const element = document.querySelector('#df-abbf7c9b-8dd9-4d3d-be74-85398a66c451');\n",
              "          const dataTable =\n",
              "            await google.colab.kernel.invokeFunction('convertToInteractive',\n",
              "                                                     [key], {});\n",
              "          if (!dataTable) return;\n",
              "\n",
              "          const docLinkHtml = 'Like what you see? Visit the ' +\n",
              "            '<a target=\"_blank\" href=https://colab.research.google.com/notebooks/data_table.ipynb>data table notebook</a>'\n",
              "            + ' to learn more about interactive tables.';\n",
              "          element.innerHTML = '';\n",
              "          dataTable['output_type'] = 'display_data';\n",
              "          await google.colab.output.renderOutput(dataTable, element);\n",
              "          const docLink = document.createElement('div');\n",
              "          docLink.innerHTML = docLinkHtml;\n",
              "          element.appendChild(docLink);\n",
              "        }\n",
              "      </script>\n",
              "    </div>\n",
              "  </div>\n",
              "  "
            ]
          },
          "metadata": {},
          "execution_count": 6
        }
      ]
    },
    {
      "cell_type": "code",
      "source": [
        "#Ultimos dados do conjunto\n",
        "\n",
        "Dados.tail()"
      ],
      "metadata": {
        "colab": {
          "base_uri": "https://localhost:8080/",
          "height": 369
        },
        "id": "eQNmcYahQ5rJ",
        "outputId": "a017960e-2856-402f-84c8-57ba6ffd4875"
      },
      "execution_count": 7,
      "outputs": [
        {
          "output_type": "execute_result",
          "data": {
            "text/plain": [
              "        SUBJECT_ID  BIRTH_YEAR GENDER_FACTOR RACE_FACTOR   ETHNICITY_FACTOR  \\\n",
              "333195      333196        2006     S0 - Male  R0 - White  E0 - Non-Hispanic   \n",
              "333196      333197        2006   S1 - Female  R1 - Black  E0 - Non-Hispanic   \n",
              "333197      333198        2006     S0 - Male  R0 - White  E0 - Non-Hispanic   \n",
              "333198      333199        2006     S0 - Male  R3 - Other  E0 - Non-Hispanic   \n",
              "333199      333200        2006   S1 - Female  R0 - White  E0 - Non-Hispanic   \n",
              "\n",
              "             PAYER_FACTOR  ATOPIC_MARCH_COHORT  AGE_START_YEARS  \\\n",
              "333195  P0 - Non-Medicaid                False         0.736482   \n",
              "333196      P1 - Medicaid                 True         0.019165   \n",
              "333197  P0 - Non-Medicaid                False         0.443532   \n",
              "333198  P0 - Non-Medicaid                 True         0.013689   \n",
              "333199  P0 - Non-Medicaid                False         0.019165   \n",
              "\n",
              "        AGE_END_YEARS  SHELLFISH_ALG_START  ...  CASHEW_ALG_END  \\\n",
              "333195       7.449692                  NaN  ...             NaN   \n",
              "333196       6.984257                  NaN  ...             NaN   \n",
              "333197       7.405886                  NaN  ...             NaN   \n",
              "333198       7.017112                  NaN  ...             NaN   \n",
              "333199       3.014374                  NaN  ...             NaN   \n",
              "\n",
              "        ATOPIC_DERM_START  ATOPIC_DERM_END  ALLERGIC_RHINITIS_START  \\\n",
              "333195           0.736482              NaN                      NaN   \n",
              "333196                NaN              NaN                      NaN   \n",
              "333197                NaN              NaN                      NaN   \n",
              "333198                NaN              NaN                      NaN   \n",
              "333199           0.347707         0.347707                      NaN   \n",
              "\n",
              "        ALLERGIC_RHINITIS_END  ASTHMA_START  ASTHMA_END  FIRST_ASTHMARX  \\\n",
              "333195                    NaN      5.426420    7.449692             NaN   \n",
              "333196                    NaN           NaN         NaN             NaN   \n",
              "333197                    NaN      2.321697         NaN        2.321697   \n",
              "333198                    NaN           NaN         NaN             NaN   \n",
              "333199                    NaN           NaN         NaN             NaN   \n",
              "\n",
              "        LAST_ASTHMARX  NUM_ASTHMARX  \n",
              "333195            NaN           NaN  \n",
              "333196            NaN           NaN  \n",
              "333197        6.65024           4.0  \n",
              "333198            NaN           NaN  \n",
              "333199            NaN           NaN  \n",
              "\n",
              "[5 rows x 50 columns]"
            ],
            "text/html": [
              "\n",
              "  <div id=\"df-12093aff-ab6d-4098-82a3-07b14dd4a50c\">\n",
              "    <div class=\"colab-df-container\">\n",
              "      <div>\n",
              "<style scoped>\n",
              "    .dataframe tbody tr th:only-of-type {\n",
              "        vertical-align: middle;\n",
              "    }\n",
              "\n",
              "    .dataframe tbody tr th {\n",
              "        vertical-align: top;\n",
              "    }\n",
              "\n",
              "    .dataframe thead th {\n",
              "        text-align: right;\n",
              "    }\n",
              "</style>\n",
              "<table border=\"1\" class=\"dataframe\">\n",
              "  <thead>\n",
              "    <tr style=\"text-align: right;\">\n",
              "      <th></th>\n",
              "      <th>SUBJECT_ID</th>\n",
              "      <th>BIRTH_YEAR</th>\n",
              "      <th>GENDER_FACTOR</th>\n",
              "      <th>RACE_FACTOR</th>\n",
              "      <th>ETHNICITY_FACTOR</th>\n",
              "      <th>PAYER_FACTOR</th>\n",
              "      <th>ATOPIC_MARCH_COHORT</th>\n",
              "      <th>AGE_START_YEARS</th>\n",
              "      <th>AGE_END_YEARS</th>\n",
              "      <th>SHELLFISH_ALG_START</th>\n",
              "      <th>...</th>\n",
              "      <th>CASHEW_ALG_END</th>\n",
              "      <th>ATOPIC_DERM_START</th>\n",
              "      <th>ATOPIC_DERM_END</th>\n",
              "      <th>ALLERGIC_RHINITIS_START</th>\n",
              "      <th>ALLERGIC_RHINITIS_END</th>\n",
              "      <th>ASTHMA_START</th>\n",
              "      <th>ASTHMA_END</th>\n",
              "      <th>FIRST_ASTHMARX</th>\n",
              "      <th>LAST_ASTHMARX</th>\n",
              "      <th>NUM_ASTHMARX</th>\n",
              "    </tr>\n",
              "  </thead>\n",
              "  <tbody>\n",
              "    <tr>\n",
              "      <th>333195</th>\n",
              "      <td>333196</td>\n",
              "      <td>2006</td>\n",
              "      <td>S0 - Male</td>\n",
              "      <td>R0 - White</td>\n",
              "      <td>E0 - Non-Hispanic</td>\n",
              "      <td>P0 - Non-Medicaid</td>\n",
              "      <td>False</td>\n",
              "      <td>0.736482</td>\n",
              "      <td>7.449692</td>\n",
              "      <td>NaN</td>\n",
              "      <td>...</td>\n",
              "      <td>NaN</td>\n",
              "      <td>0.736482</td>\n",
              "      <td>NaN</td>\n",
              "      <td>NaN</td>\n",
              "      <td>NaN</td>\n",
              "      <td>5.426420</td>\n",
              "      <td>7.449692</td>\n",
              "      <td>NaN</td>\n",
              "      <td>NaN</td>\n",
              "      <td>NaN</td>\n",
              "    </tr>\n",
              "    <tr>\n",
              "      <th>333196</th>\n",
              "      <td>333197</td>\n",
              "      <td>2006</td>\n",
              "      <td>S1 - Female</td>\n",
              "      <td>R1 - Black</td>\n",
              "      <td>E0 - Non-Hispanic</td>\n",
              "      <td>P1 - Medicaid</td>\n",
              "      <td>True</td>\n",
              "      <td>0.019165</td>\n",
              "      <td>6.984257</td>\n",
              "      <td>NaN</td>\n",
              "      <td>...</td>\n",
              "      <td>NaN</td>\n",
              "      <td>NaN</td>\n",
              "      <td>NaN</td>\n",
              "      <td>NaN</td>\n",
              "      <td>NaN</td>\n",
              "      <td>NaN</td>\n",
              "      <td>NaN</td>\n",
              "      <td>NaN</td>\n",
              "      <td>NaN</td>\n",
              "      <td>NaN</td>\n",
              "    </tr>\n",
              "    <tr>\n",
              "      <th>333197</th>\n",
              "      <td>333198</td>\n",
              "      <td>2006</td>\n",
              "      <td>S0 - Male</td>\n",
              "      <td>R0 - White</td>\n",
              "      <td>E0 - Non-Hispanic</td>\n",
              "      <td>P0 - Non-Medicaid</td>\n",
              "      <td>False</td>\n",
              "      <td>0.443532</td>\n",
              "      <td>7.405886</td>\n",
              "      <td>NaN</td>\n",
              "      <td>...</td>\n",
              "      <td>NaN</td>\n",
              "      <td>NaN</td>\n",
              "      <td>NaN</td>\n",
              "      <td>NaN</td>\n",
              "      <td>NaN</td>\n",
              "      <td>2.321697</td>\n",
              "      <td>NaN</td>\n",
              "      <td>2.321697</td>\n",
              "      <td>6.65024</td>\n",
              "      <td>4.0</td>\n",
              "    </tr>\n",
              "    <tr>\n",
              "      <th>333198</th>\n",
              "      <td>333199</td>\n",
              "      <td>2006</td>\n",
              "      <td>S0 - Male</td>\n",
              "      <td>R3 - Other</td>\n",
              "      <td>E0 - Non-Hispanic</td>\n",
              "      <td>P0 - Non-Medicaid</td>\n",
              "      <td>True</td>\n",
              "      <td>0.013689</td>\n",
              "      <td>7.017112</td>\n",
              "      <td>NaN</td>\n",
              "      <td>...</td>\n",
              "      <td>NaN</td>\n",
              "      <td>NaN</td>\n",
              "      <td>NaN</td>\n",
              "      <td>NaN</td>\n",
              "      <td>NaN</td>\n",
              "      <td>NaN</td>\n",
              "      <td>NaN</td>\n",
              "      <td>NaN</td>\n",
              "      <td>NaN</td>\n",
              "      <td>NaN</td>\n",
              "    </tr>\n",
              "    <tr>\n",
              "      <th>333199</th>\n",
              "      <td>333200</td>\n",
              "      <td>2006</td>\n",
              "      <td>S1 - Female</td>\n",
              "      <td>R0 - White</td>\n",
              "      <td>E0 - Non-Hispanic</td>\n",
              "      <td>P0 - Non-Medicaid</td>\n",
              "      <td>False</td>\n",
              "      <td>0.019165</td>\n",
              "      <td>3.014374</td>\n",
              "      <td>NaN</td>\n",
              "      <td>...</td>\n",
              "      <td>NaN</td>\n",
              "      <td>0.347707</td>\n",
              "      <td>0.347707</td>\n",
              "      <td>NaN</td>\n",
              "      <td>NaN</td>\n",
              "      <td>NaN</td>\n",
              "      <td>NaN</td>\n",
              "      <td>NaN</td>\n",
              "      <td>NaN</td>\n",
              "      <td>NaN</td>\n",
              "    </tr>\n",
              "  </tbody>\n",
              "</table>\n",
              "<p>5 rows × 50 columns</p>\n",
              "</div>\n",
              "      <button class=\"colab-df-convert\" onclick=\"convertToInteractive('df-12093aff-ab6d-4098-82a3-07b14dd4a50c')\"\n",
              "              title=\"Convert this dataframe to an interactive table.\"\n",
              "              style=\"display:none;\">\n",
              "        \n",
              "  <svg xmlns=\"http://www.w3.org/2000/svg\" height=\"24px\"viewBox=\"0 0 24 24\"\n",
              "       width=\"24px\">\n",
              "    <path d=\"M0 0h24v24H0V0z\" fill=\"none\"/>\n",
              "    <path d=\"M18.56 5.44l.94 2.06.94-2.06 2.06-.94-2.06-.94-.94-2.06-.94 2.06-2.06.94zm-11 1L8.5 8.5l.94-2.06 2.06-.94-2.06-.94L8.5 2.5l-.94 2.06-2.06.94zm10 10l.94 2.06.94-2.06 2.06-.94-2.06-.94-.94-2.06-.94 2.06-2.06.94z\"/><path d=\"M17.41 7.96l-1.37-1.37c-.4-.4-.92-.59-1.43-.59-.52 0-1.04.2-1.43.59L10.3 9.45l-7.72 7.72c-.78.78-.78 2.05 0 2.83L4 21.41c.39.39.9.59 1.41.59.51 0 1.02-.2 1.41-.59l7.78-7.78 2.81-2.81c.8-.78.8-2.07 0-2.86zM5.41 20L4 18.59l7.72-7.72 1.47 1.35L5.41 20z\"/>\n",
              "  </svg>\n",
              "      </button>\n",
              "      \n",
              "  <style>\n",
              "    .colab-df-container {\n",
              "      display:flex;\n",
              "      flex-wrap:wrap;\n",
              "      gap: 12px;\n",
              "    }\n",
              "\n",
              "    .colab-df-convert {\n",
              "      background-color: #E8F0FE;\n",
              "      border: none;\n",
              "      border-radius: 50%;\n",
              "      cursor: pointer;\n",
              "      display: none;\n",
              "      fill: #1967D2;\n",
              "      height: 32px;\n",
              "      padding: 0 0 0 0;\n",
              "      width: 32px;\n",
              "    }\n",
              "\n",
              "    .colab-df-convert:hover {\n",
              "      background-color: #E2EBFA;\n",
              "      box-shadow: 0px 1px 2px rgba(60, 64, 67, 0.3), 0px 1px 3px 1px rgba(60, 64, 67, 0.15);\n",
              "      fill: #174EA6;\n",
              "    }\n",
              "\n",
              "    [theme=dark] .colab-df-convert {\n",
              "      background-color: #3B4455;\n",
              "      fill: #D2E3FC;\n",
              "    }\n",
              "\n",
              "    [theme=dark] .colab-df-convert:hover {\n",
              "      background-color: #434B5C;\n",
              "      box-shadow: 0px 1px 3px 1px rgba(0, 0, 0, 0.15);\n",
              "      filter: drop-shadow(0px 1px 2px rgba(0, 0, 0, 0.3));\n",
              "      fill: #FFFFFF;\n",
              "    }\n",
              "  </style>\n",
              "\n",
              "      <script>\n",
              "        const buttonEl =\n",
              "          document.querySelector('#df-12093aff-ab6d-4098-82a3-07b14dd4a50c button.colab-df-convert');\n",
              "        buttonEl.style.display =\n",
              "          google.colab.kernel.accessAllowed ? 'block' : 'none';\n",
              "\n",
              "        async function convertToInteractive(key) {\n",
              "          const element = document.querySelector('#df-12093aff-ab6d-4098-82a3-07b14dd4a50c');\n",
              "          const dataTable =\n",
              "            await google.colab.kernel.invokeFunction('convertToInteractive',\n",
              "                                                     [key], {});\n",
              "          if (!dataTable) return;\n",
              "\n",
              "          const docLinkHtml = 'Like what you see? Visit the ' +\n",
              "            '<a target=\"_blank\" href=https://colab.research.google.com/notebooks/data_table.ipynb>data table notebook</a>'\n",
              "            + ' to learn more about interactive tables.';\n",
              "          element.innerHTML = '';\n",
              "          dataTable['output_type'] = 'display_data';\n",
              "          await google.colab.output.renderOutput(dataTable, element);\n",
              "          const docLink = document.createElement('div');\n",
              "          docLink.innerHTML = docLinkHtml;\n",
              "          element.appendChild(docLink);\n",
              "        }\n",
              "      </script>\n",
              "    </div>\n",
              "  </div>\n",
              "  "
            ]
          },
          "metadata": {},
          "execution_count": 7
        }
      ]
    },
    {
      "cell_type": "markdown",
      "source": [
        "# Informações sobre o conjunto de dados"
      ],
      "metadata": {
        "id": "kr-1rD0JRCSg"
      }
    },
    {
      "cell_type": "code",
      "source": [
        "#Quantidade de dados do conjunto\n",
        "\n",
        "Dados.shape"
      ],
      "metadata": {
        "colab": {
          "base_uri": "https://localhost:8080/"
        },
        "id": "rqtxhyfCRHR4",
        "outputId": "aa385a79-7f1a-4a76-ec64-95729ef91577"
      },
      "execution_count": 8,
      "outputs": [
        {
          "output_type": "execute_result",
          "data": {
            "text/plain": [
              "(333200, 50)"
            ]
          },
          "metadata": {},
          "execution_count": 8
        }
      ]
    },
    {
      "cell_type": "markdown",
      "source": [
        "O conjunto possui mais de 333.200 linhas e 50 colunas"
      ],
      "metadata": {
        "id": "yvRK0VV3RNFX"
      }
    },
    {
      "cell_type": "code",
      "source": [
        "#Nome das colunas disponíveis\n",
        "\n",
        "Dados.columns"
      ],
      "metadata": {
        "colab": {
          "base_uri": "https://localhost:8080/"
        },
        "id": "MHbVib1VRW1n",
        "outputId": "a3a83290-d3b4-4fc8-a3d4-c2ba9a152932"
      },
      "execution_count": 9,
      "outputs": [
        {
          "output_type": "execute_result",
          "data": {
            "text/plain": [
              "Index(['SUBJECT_ID', 'BIRTH_YEAR', 'GENDER_FACTOR', 'RACE_FACTOR',\n",
              "       'ETHNICITY_FACTOR', 'PAYER_FACTOR', 'ATOPIC_MARCH_COHORT',\n",
              "       'AGE_START_YEARS', 'AGE_END_YEARS', 'SHELLFISH_ALG_START',\n",
              "       'SHELLFISH_ALG_END', 'FISH_ALG_START', 'FISH_ALG_END', 'MILK_ALG_START',\n",
              "       'MILK_ALG_END', 'SOY_ALG_START', 'SOY_ALG_END', 'EGG_ALG_START',\n",
              "       'EGG_ALG_END', 'WHEAT_ALG_START', 'WHEAT_ALG_END', 'PEANUT_ALG_START',\n",
              "       'PEANUT_ALG_END', 'SESAME_ALG_START', 'SESAME_ALG_END',\n",
              "       'TREENUT_ALG_START', 'TREENUT_ALG_END', 'WALNUT_ALG_START',\n",
              "       'WALNUT_ALG_END', 'PECAN_ALG_START', 'PECAN_ALG_END',\n",
              "       'PISTACH_ALG_START', 'PISTACH_ALG_END', 'ALMOND_ALG_START',\n",
              "       'ALMOND_ALG_END', 'BRAZIL_ALG_START', 'BRAZIL_ALG_END',\n",
              "       'HAZELNUT_ALG_START', 'HAZELNUT_ALG_END', 'CASHEW_ALG_START',\n",
              "       'CASHEW_ALG_END', 'ATOPIC_DERM_START', 'ATOPIC_DERM_END',\n",
              "       'ALLERGIC_RHINITIS_START', 'ALLERGIC_RHINITIS_END', 'ASTHMA_START',\n",
              "       'ASTHMA_END', 'FIRST_ASTHMARX', 'LAST_ASTHMARX', 'NUM_ASTHMARX'],\n",
              "      dtype='object')"
            ]
          },
          "metadata": {},
          "execution_count": 9
        }
      ]
    },
    {
      "cell_type": "code",
      "source": [
        "#Verificação se temos dados duplicados\n",
        "\n",
        "Dados.duplicated().sum()"
      ],
      "metadata": {
        "colab": {
          "base_uri": "https://localhost:8080/"
        },
        "id": "uQArRrmmReif",
        "outputId": "3c5523b9-1674-470e-8ce1-8735b807bb94"
      },
      "execution_count": 10,
      "outputs": [
        {
          "output_type": "execute_result",
          "data": {
            "text/plain": [
              "0"
            ]
          },
          "metadata": {},
          "execution_count": 10
        }
      ]
    },
    {
      "cell_type": "markdown",
      "source": [
        "Não temos dados duplicados nesse dataset"
      ],
      "metadata": {
        "id": "7aKm1jI9RnkI"
      }
    },
    {
      "cell_type": "code",
      "source": [
        "#Verificar as colunas que possuem valores integrais nulos\n",
        "\n",
        "Dados.isnull().sum()"
      ],
      "metadata": {
        "colab": {
          "base_uri": "https://localhost:8080/"
        },
        "id": "scllNxJuRq5Z",
        "outputId": "33ba4ee7-3c17-4dc4-8e79-8ae2d6c61b10"
      },
      "execution_count": 11,
      "outputs": [
        {
          "output_type": "execute_result",
          "data": {
            "text/plain": [
              "SUBJECT_ID                      0\n",
              "BIRTH_YEAR                      0\n",
              "GENDER_FACTOR                   0\n",
              "RACE_FACTOR                     0\n",
              "ETHNICITY_FACTOR                0\n",
              "PAYER_FACTOR                    0\n",
              "ATOPIC_MARCH_COHORT             0\n",
              "AGE_START_YEARS                 0\n",
              "AGE_END_YEARS                   0\n",
              "SHELLFISH_ALG_START        327954\n",
              "SHELLFISH_ALG_END          332149\n",
              "FISH_ALG_START             331404\n",
              "FISH_ALG_END               332673\n",
              "MILK_ALG_START             325911\n",
              "MILK_ALG_END               328620\n",
              "SOY_ALG_START              330781\n",
              "SOY_ALG_END                331769\n",
              "EGG_ALG_START              327135\n",
              "EGG_ALG_END                329907\n",
              "WHEAT_ALG_START            332054\n",
              "WHEAT_ALG_END              332512\n",
              "PEANUT_ALG_START           324547\n",
              "PEANUT_ALG_END             331108\n",
              "SESAME_ALG_START           332434\n",
              "SESAME_ALG_END             333022\n",
              "TREENUT_ALG_START          333199\n",
              "TREENUT_ALG_END            333200\n",
              "WALNUT_ALG_START           332496\n",
              "WALNUT_ALG_END             333034\n",
              "PECAN_ALG_START            332915\n",
              "PECAN_ALG_END              333141\n",
              "PISTACH_ALG_START          332831\n",
              "PISTACH_ALG_END            333118\n",
              "ALMOND_ALG_START           332814\n",
              "ALMOND_ALG_END             333083\n",
              "BRAZIL_ALG_START           333132\n",
              "BRAZIL_ALG_END             333181\n",
              "HAZELNUT_ALG_START         332947\n",
              "HAZELNUT_ALG_END           333148\n",
              "CASHEW_ALG_START           332639\n",
              "CASHEW_ALG_END             333079\n",
              "ATOPIC_DERM_START          283685\n",
              "ATOPIC_DERM_END            291468\n",
              "ALLERGIC_RHINITIS_START    277633\n",
              "ALLERGIC_RHINITIS_END      307874\n",
              "ASTHMA_START               269326\n",
              "ASTHMA_END                 307735\n",
              "FIRST_ASTHMARX             215650\n",
              "LAST_ASTHMARX              215650\n",
              "NUM_ASTHMARX               215650\n",
              "dtype: int64"
            ]
          },
          "metadata": {},
          "execution_count": 11
        }
      ]
    },
    {
      "cell_type": "markdown",
      "source": [
        "POdemos notar que a partir da coluna chamada SHELLFISH_ALG_START, onde relatam as alergias que nao temos a partir delas dados totalmente completos."
      ],
      "metadata": {
        "id": "b0cZcTXnSCaz"
      }
    },
    {
      "cell_type": "code",
      "source": [
        "Dados.info()"
      ],
      "metadata": {
        "colab": {
          "base_uri": "https://localhost:8080/"
        },
        "id": "7lX6X1bESiHZ",
        "outputId": "e0dec61f-94df-420c-e50c-f9171ea4bcde"
      },
      "execution_count": 12,
      "outputs": [
        {
          "output_type": "stream",
          "name": "stdout",
          "text": [
            "<class 'pandas.core.frame.DataFrame'>\n",
            "RangeIndex: 333200 entries, 0 to 333199\n",
            "Data columns (total 50 columns):\n",
            " #   Column                   Non-Null Count   Dtype  \n",
            "---  ------                   --------------   -----  \n",
            " 0   SUBJECT_ID               333200 non-null  int64  \n",
            " 1   BIRTH_YEAR               333200 non-null  int64  \n",
            " 2   GENDER_FACTOR            333200 non-null  object \n",
            " 3   RACE_FACTOR              333200 non-null  object \n",
            " 4   ETHNICITY_FACTOR         333200 non-null  object \n",
            " 5   PAYER_FACTOR             333200 non-null  object \n",
            " 6   ATOPIC_MARCH_COHORT      333200 non-null  bool   \n",
            " 7   AGE_START_YEARS          333200 non-null  float64\n",
            " 8   AGE_END_YEARS            333200 non-null  float64\n",
            " 9   SHELLFISH_ALG_START      5246 non-null    float64\n",
            " 10  SHELLFISH_ALG_END        1051 non-null    float64\n",
            " 11  FISH_ALG_START           1796 non-null    float64\n",
            " 12  FISH_ALG_END             527 non-null     float64\n",
            " 13  MILK_ALG_START           7289 non-null    float64\n",
            " 14  MILK_ALG_END             4580 non-null    float64\n",
            " 15  SOY_ALG_START            2419 non-null    float64\n",
            " 16  SOY_ALG_END              1431 non-null    float64\n",
            " 17  EGG_ALG_START            6065 non-null    float64\n",
            " 18  EGG_ALG_END              3293 non-null    float64\n",
            " 19  WHEAT_ALG_START          1146 non-null    float64\n",
            " 20  WHEAT_ALG_END            688 non-null     float64\n",
            " 21  PEANUT_ALG_START         8653 non-null    float64\n",
            " 22  PEANUT_ALG_END           2092 non-null    float64\n",
            " 23  SESAME_ALG_START         766 non-null     float64\n",
            " 24  SESAME_ALG_END           178 non-null     float64\n",
            " 25  TREENUT_ALG_START        1 non-null       float64\n",
            " 26  TREENUT_ALG_END          0 non-null       float64\n",
            " 27  WALNUT_ALG_START         704 non-null     float64\n",
            " 28  WALNUT_ALG_END           166 non-null     float64\n",
            " 29  PECAN_ALG_START          285 non-null     float64\n",
            " 30  PECAN_ALG_END            59 non-null      float64\n",
            " 31  PISTACH_ALG_START        369 non-null     float64\n",
            " 32  PISTACH_ALG_END          82 non-null      float64\n",
            " 33  ALMOND_ALG_START         386 non-null     float64\n",
            " 34  ALMOND_ALG_END           117 non-null     float64\n",
            " 35  BRAZIL_ALG_START         68 non-null      float64\n",
            " 36  BRAZIL_ALG_END           19 non-null      float64\n",
            " 37  HAZELNUT_ALG_START       253 non-null     float64\n",
            " 38  HAZELNUT_ALG_END         52 non-null      float64\n",
            " 39  CASHEW_ALG_START         561 non-null     float64\n",
            " 40  CASHEW_ALG_END           121 non-null     float64\n",
            " 41  ATOPIC_DERM_START        49515 non-null   float64\n",
            " 42  ATOPIC_DERM_END          41732 non-null   float64\n",
            " 43  ALLERGIC_RHINITIS_START  55567 non-null   float64\n",
            " 44  ALLERGIC_RHINITIS_END    25326 non-null   float64\n",
            " 45  ASTHMA_START             63874 non-null   float64\n",
            " 46  ASTHMA_END               25465 non-null   float64\n",
            " 47  FIRST_ASTHMARX           117550 non-null  float64\n",
            " 48  LAST_ASTHMARX            117550 non-null  float64\n",
            " 49  NUM_ASTHMARX             117550 non-null  float64\n",
            "dtypes: bool(1), float64(43), int64(2), object(4)\n",
            "memory usage: 124.9+ MB\n"
          ]
        }
      ]
    },
    {
      "cell_type": "markdown",
      "source": [
        "# Excluindo Valores Negativos"
      ],
      "metadata": {
        "id": "PDR-noW5TU8c"
      }
    },
    {
      "cell_type": "code",
      "source": [
        "valores_negativos = Dados[Dados.ATOPIC_DERM_START < 0].index\n",
        "\n",
        "Dados.drop(valores_negativos, inplace=True)"
      ],
      "metadata": {
        "id": "zkBZG18sTYdd"
      },
      "execution_count": 14,
      "outputs": []
    },
    {
      "cell_type": "markdown",
      "source": [
        "# Verificando as alergias"
      ],
      "metadata": {
        "id": "Mgm-K9anTvlw"
      }
    },
    {
      "cell_type": "code",
      "source": [
        "#Adicionando valores ao grafico de barras\n",
        "\n",
        "def addlabels(x,y):\n",
        "  for i in range(len(x)):\n",
        "    plt.text(i, y[i], y[i], ha = 'center', va = 'bottom', c = 'blue')\n",
        "\n",
        "plt.figure(figsize = (16,7))\n",
        "\n",
        "x = ['SHELL FISH', 'FISH ALG', 'MILK_ALG', 'SOY_ALG', 'EGG_ALG', 'WHEAT_ALG', 'PEANUT_ALG', 'SESAME_ALG', 'TREENUT_ALG', 'WALNUT_ALG', \n",
        "     'PECAN_ALG', 'PISTACH_ALG', 'ALMOND_ALG', 'BRAZIL_ALG', 'HAZENUT_ALG', 'CASHEW_ALG', 'ATOPIC_DERM', 'ALLERGIC_RHINITIS', 'ASTHMA' ]\n",
        "height = [Dados['SHELLFISH_ALG_START'].count(),Dados[\"FISH_ALG_START\"].count(),\n",
        "       Dados[\"MILK_ALG_START\"].count(),Dados[\"SOY_ALG_START\"].count(),Dados[\"EGG_ALG_START\"].count(),\n",
        "       Dados[\"WHEAT_ALG_START\"].count(),Dados[\"PEANUT_ALG_START\"].count(),Dados[\"SESAME_ALG_START\"].count(),\n",
        "       Dados[\"TREENUT_ALG_START\"].count(),Dados[\"WALNUT_ALG_START\"].count(),Dados[\"PECAN_ALG_START\"].count(),\n",
        "       Dados[\"PISTACH_ALG_START\"].count(),Dados[\"ALMOND_ALG_START\"].count(),Dados[\"BRAZIL_ALG_START\"].count(),\n",
        "       Dados[\"HAZELNUT_ALG_START\"].count(),Dados[\"CASHEW_ALG_START\"].count(),Dados[\"ATOPIC_DERM_START\"].count(),\n",
        "       Dados[\"ALLERGIC_RHINITIS_START\"].count(),Dados[\"ASTHMA_START\"].count()]\n",
        "plt.bar(x=x, height=height)\n",
        "\n",
        "addlabels(x, height)\n",
        "\n",
        "plt.xticks(rotation=60)\n",
        "plt.title('Número de casos de alergia em crianças', fontsize=18)\n",
        "\n",
        "plt.annotate(\n",
        "    'Análise sobre Alergias em Crianças \\n by: @Lerina Mesquita Mastruian',\n",
        "    xy=(1, -0.35), xycoords='axes fraction', ha='right', fontsize=12);"
      ],
      "metadata": {
        "colab": {
          "base_uri": "https://localhost:8080/",
          "height": 424
        },
        "id": "rzw8HfsBTzCi",
        "outputId": "3f907567-1502-4094-f592-dc980ea69cd3"
      },
      "execution_count": 24,
      "outputs": [
        {
          "output_type": "display_data",
          "data": {
            "text/plain": [
              "<Figure size 1152x504 with 1 Axes>"
            ],
            "image/png": "[encoded data removed]"
          },
          "metadata": {
            "needs_background": "light"
          }
        }
      ]
    },
    {
      "cell_type": "markdown",
      "source": [
        "##### Podemos notar que o conjunto de dados em questão as 3 principais alergias mais comuns em crianças são: Asma, Rinite e Dermatite Atópica.\n",
        "\n",
        "Um outro grupo com menores valores, se destacam as alergias a amendoim, leite e ovo."
      ],
      "metadata": {
        "id": "qb4vB8ogZtv_"
      }
    },
    {
      "cell_type": "markdown",
      "source": [
        "# Fatores importantes"
      ],
      "metadata": {
        "id": "YX8d9jdWam6p"
      }
    },
    {
      "cell_type": "code",
      "source": [
        "#Fator de Gênero\n",
        "\n",
        "Dados['GENDER_FACTOR'].value_counts()"
      ],
      "metadata": {
        "colab": {
          "base_uri": "https://localhost:8080/"
        },
        "id": "7zPR0Qc_asX1",
        "outputId": "54506e13-04f7-474e-9b3f-de745d9a26dd"
      },
      "execution_count": 25,
      "outputs": [
        {
          "output_type": "execute_result",
          "data": {
            "text/plain": [
              "S0 - Male      169024\n",
              "S1 - Female    164166\n",
              "Name: GENDER_FACTOR, dtype: int64"
            ]
          },
          "metadata": {},
          "execution_count": 25
        }
      ]
    },
    {
      "cell_type": "code",
      "source": [
        "figure1, plot1 = plt.subplots(1,2, figsize=(12,8))\n",
        "\n",
        "sns.countplot(Dados['GENDER_FACTOR'].sort_values(ascending=False), ax=plot1[0])\n",
        "\n",
        "labels=['Meninos','Meninas']\n",
        "plt.title('Porcentagem(%)')\n",
        "plt.pie(Dados['GENDER_FACTOR'].value_counts(), labels = labels, autopct='%.02f');\n",
        "plt.show()"
      ],
      "metadata": {
        "colab": {
          "base_uri": "https://localhost:8080/",
          "height": 470
        },
        "id": "wf-j5lo4baxy",
        "outputId": "ae9526a6-02b2-4f38-e858-375f8695bbe3"
      },
      "execution_count": 27,
      "outputs": [
        {
          "output_type": "display_data",
          "data": {
            "text/plain": [
              "<Figure size 864x576 with 2 Axes>"
            ],
            "image/png": "[encoded data removed]"
          },
          "metadata": {
            "needs_background": "light"
          }
        }
      ]
    },
    {
      "cell_type": "markdown",
      "source": [
        "Não possuimos diferenças significativas sobre alergias em crianças por genêro. Os dados mostram que os meninos são mais alérgicos que as meninas, com 50,7% dos casos."
      ],
      "metadata": {
        "id": "kyspFJxedDz5"
      }
    },
    {
      "cell_type": "code",
      "source": [
        "#Fator de Raça\n",
        "\n",
        "Dados['RACE_FACTOR'].value_counts()"
      ],
      "metadata": {
        "colab": {
          "base_uri": "https://localhost:8080/"
        },
        "id": "AN5u6EhadpdL",
        "outputId": "6c535b2a-e4df-49e5-dbaa-68a70f8bda07"
      },
      "execution_count": 28,
      "outputs": [
        {
          "output_type": "execute_result",
          "data": {
            "text/plain": [
              "R0 - White                        183306\n",
              "R1 - Black                         97788\n",
              "R4 - Unknown                       40939\n",
              "R2 - Asian or Pacific Islander      9152\n",
              "R3 - Other                          2005\n",
              "Name: RACE_FACTOR, dtype: int64"
            ]
          },
          "metadata": {},
          "execution_count": 28
        }
      ]
    },
    {
      "cell_type": "code",
      "source": [
        "# Plotando os dados referentes a Raça\n",
        "\n",
        "plt.figure(figsize=(15,6))\n",
        "plt.title('Análise sobre alergias em Crianças - Raça', fontsize=20, fontweight='bold')\n",
        "sns.countplot(Dados['RACE_FACTOR'], data = Dados, \n",
        "             palette = 'hls')\n",
        "plt.xticks(rotation = 80)\n",
        "plt.annotate(\n",
        "    'Alergias em Crianças \\n by: @Lerina Mesquita Mastruian',\n",
        "    xy=(1, -0.60), xycoords='axes fraction', ha='right', fontsize=12);\n",
        "plt.show()"
      ],
      "metadata": {
        "colab": {
          "base_uri": "https://localhost:8080/",
          "height": 448
        },
        "id": "TSnzwo77d9bf",
        "outputId": "3d24ae85-1fc5-4655-dde8-90840aae6853"
      },
      "execution_count": 29,
      "outputs": [
        {
          "output_type": "display_data",
          "data": {
            "text/plain": [
              "<Figure size 1080x432 with 1 Axes>"
            ],
            "image/png": "[encoded data removed]"
          },
          "metadata": {
            "needs_background": "light"
          }
        }
      ]
    },
    {
      "cell_type": "markdown",
      "source": [
        "As crianças de cor branca tem mais casos de ter alergias, seguido das crianças negras, mas essas houveram a metade de casos do que as crianças brancas"
      ],
      "metadata": {
        "id": "Xi6q86_cfWNS"
      }
    },
    {
      "cell_type": "code",
      "source": [
        "# Fator de Etnia\n",
        "\n",
        "labels=['Não Hispanicos','Hispanicos']\n",
        "plt.title('Porcentagem(%)')\n",
        "plt.pie(Dados['ETHNICITY_FACTOR'].value_counts(), labels = labels, autopct='%.02f');\n",
        "plt.annotate(\n",
        "    'Alergias em Crianças \\n by: @Lerina Mesquita Mastruian',\n",
        "    xy=(1, -0.20), xycoords='axes fraction', ha='right', fontsize=12);\n",
        "plt.show()"
      ],
      "metadata": {
        "colab": {
          "base_uri": "https://localhost:8080/",
          "height": 311
        },
        "id": "9vjMQpCafreJ",
        "outputId": "186b77e1-7be9-4fbd-d281-1648ab3dfb2b"
      },
      "execution_count": 32,
      "outputs": [
        {
          "output_type": "display_data",
          "data": {
            "text/plain": [
              "<Figure size 432x288 with 1 Axes>"
            ],
            "image/png": "[encoded data removed]"
          },
          "metadata": {}
        }
      ]
    },
    {
      "cell_type": "markdown",
      "source": [
        "A grande maioria dos casos de alergias em crianças são de Não Hispanicos, mais de 95% dos casos."
      ],
      "metadata": {
        "id": "Iq6T3DvAgYOq"
      }
    }
  ]
}